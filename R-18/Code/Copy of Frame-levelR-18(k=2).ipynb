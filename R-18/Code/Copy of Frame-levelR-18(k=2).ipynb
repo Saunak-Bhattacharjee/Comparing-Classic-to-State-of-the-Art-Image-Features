{
 "cells": [
  {
   "cell_type": "code",
   "execution_count": 1,
   "metadata": {
    "colab": {
     "base_uri": "https://localhost:8080/"
    },
    "executionInfo": {
     "elapsed": 16409,
     "status": "ok",
     "timestamp": 1723203146016,
     "user": {
      "displayName": "Saunak Bhattacharjee",
      "userId": "02602491169085829743"
     },
     "user_tz": 240
    },
    "id": "jPvxo_gqY-mG",
    "outputId": "89d28168-cba5-43c2-c613-061b58bec810"
   },
   "outputs": [
    {
     "name": "stdout",
     "output_type": "stream",
     "text": [
      "Mounted at /content/drive\n"
     ]
    }
   ],
   "source": [
    "from google.colab import drive\n",
    "drive.mount('/content/drive')"
   ]
  },
  {
   "cell_type": "code",
   "execution_count": null,
   "metadata": {
    "colab": {
     "base_uri": "https://localhost:8080/"
    },
    "executionInfo": {
     "elapsed": 1127046,
     "status": "ok",
     "timestamp": 1723204425170,
     "user": {
      "displayName": "Saunak Bhattacharjee",
      "userId": "02602491169085829743"
     },
     "user_tz": 240
    },
    "id": "m12IhamZ5Yu7",
    "outputId": "b2aeee6d-5c7e-4d0b-ce60-b706bb07be73"
   },
   "outputs": [
    {
     "name": "stderr",
     "output_type": "stream",
     "text": [
      "/usr/local/lib/python3.10/dist-packages/torchvision/models/_utils.py:208: UserWarning: The parameter 'pretrained' is deprecated since 0.13 and may be removed in the future, please use 'weights' instead.\n",
      "  warnings.warn(\n",
      "/usr/local/lib/python3.10/dist-packages/torchvision/models/_utils.py:223: UserWarning: Arguments other than a weight enum or `None` for 'weights' are deprecated since 0.13 and may be removed in the future. The current behavior is equivalent to passing `weights=ResNet18_Weights.IMAGENET1K_V1`. You can also use `weights=ResNet18_Weights.DEFAULT` to get the most up-to-date weights.\n",
      "  warnings.warn(msg)\n",
      "Downloading: \"https://download.pytorch.org/models/resnet18-f37072fd.pth\" to /root/.cache/torch/hub/checkpoints/resnet18-f37072fd.pth\n",
      "100%|██████████| 44.7M/44.7M [00:00<00:00, 144MB/s]\n",
      "Processing videos:   0%|          | 0/53 [00:00<?, ?it/s]/usr/local/lib/python3.10/dist-packages/sklearn/cluster/_kmeans.py:1416: FutureWarning: The default value of `n_init` will change from 10 to 'auto' in 1.4. Set the value of `n_init` explicitly to suppress the warning\n",
      "  super()._check_params_vs_input(X, default_n_init=10)\n",
      "Processing videos:   2%|▏         | 1/53 [00:40<35:24, 40.86s/it]"
     ]
    },
    {
     "name": "stdout",
     "output_type": "stream",
     "text": [
      "Plot saved to /content/drive/MyDrive/Frame-Level_R18_Unlabeled/PLOT/010-0_RLS_cluster_plot.png\n",
      "Frame cluster assignments saved to /content/drive/MyDrive/Frame-Level_R18_Unlabeled/CSV/010-0_RLS_frame_cluster_assignments.csv\n"
     ]
    },
    {
     "name": "stderr",
     "output_type": "stream",
     "text": [
      "/usr/local/lib/python3.10/dist-packages/sklearn/cluster/_kmeans.py:1416: FutureWarning: The default value of `n_init` will change from 10 to 'auto' in 1.4. Set the value of `n_init` explicitly to suppress the warning\n",
      "  super()._check_params_vs_input(X, default_n_init=10)\n",
      "Processing videos:   4%|▍         | 2/53 [01:11<29:30, 34.71s/it]"
     ]
    },
    {
     "name": "stdout",
     "output_type": "stream",
     "text": [
      "Plot saved to /content/drive/MyDrive/Frame-Level_R18_Unlabeled/PLOT/014-0_LLS_cluster_plot.png\n",
      "Frame cluster assignments saved to /content/drive/MyDrive/Frame-Level_R18_Unlabeled/CSV/014-0_LLS_frame_cluster_assignments.csv\n"
     ]
    },
    {
     "name": "stderr",
     "output_type": "stream",
     "text": [
      "/usr/local/lib/python3.10/dist-packages/sklearn/cluster/_kmeans.py:1416: FutureWarning: The default value of `n_init` will change from 10 to 'auto' in 1.4. Set the value of `n_init` explicitly to suppress the warning\n",
      "  super()._check_params_vs_input(X, default_n_init=10)\n",
      "Processing videos:   6%|▌         | 3/53 [01:43<27:49, 33.39s/it]"
     ]
    },
    {
     "name": "stdout",
     "output_type": "stream",
     "text": [
      "Plot saved to /content/drive/MyDrive/Frame-Level_R18_Unlabeled/PLOT/014-0_LLT_cluster_plot.png\n",
      "Frame cluster assignments saved to /content/drive/MyDrive/Frame-Level_R18_Unlabeled/CSV/014-0_LLT_frame_cluster_assignments.csv\n"
     ]
    },
    {
     "name": "stderr",
     "output_type": "stream",
     "text": [
      "/usr/local/lib/python3.10/dist-packages/sklearn/cluster/_kmeans.py:1416: FutureWarning: The default value of `n_init` will change from 10 to 'auto' in 1.4. Set the value of `n_init` explicitly to suppress the warning\n",
      "  super()._check_params_vs_input(X, default_n_init=10)\n",
      "Processing videos:   8%|▊         | 4/53 [02:02<22:46, 27.90s/it]"
     ]
    },
    {
     "name": "stdout",
     "output_type": "stream",
     "text": [
      "Plot saved to /content/drive/MyDrive/Frame-Level_R18_Unlabeled/PLOT/014-0_LPT_cluster_plot.png\n",
      "Frame cluster assignments saved to /content/drive/MyDrive/Frame-Level_R18_Unlabeled/CSV/014-0_LPT_frame_cluster_assignments.csv\n"
     ]
    },
    {
     "name": "stderr",
     "output_type": "stream",
     "text": [
      "/usr/local/lib/python3.10/dist-packages/sklearn/cluster/_kmeans.py:1416: FutureWarning: The default value of `n_init` will change from 10 to 'auto' in 1.4. Set the value of `n_init` explicitly to suppress the warning\n",
      "  super()._check_params_vs_input(X, default_n_init=10)\n",
      "Processing videos:   9%|▉         | 5/53 [02:35<23:52, 29.83s/it]"
     ]
    },
    {
     "name": "stdout",
     "output_type": "stream",
     "text": [
      "Plot saved to /content/drive/MyDrive/Frame-Level_R18_Unlabeled/PLOT/015-0_LAS_cluster_plot.png\n",
      "Frame cluster assignments saved to /content/drive/MyDrive/Frame-Level_R18_Unlabeled/CSV/015-0_LAS_frame_cluster_assignments.csv\n"
     ]
    },
    {
     "name": "stderr",
     "output_type": "stream",
     "text": [
      "/usr/local/lib/python3.10/dist-packages/sklearn/cluster/_kmeans.py:1416: FutureWarning: The default value of `n_init` will change from 10 to 'auto' in 1.4. Set the value of `n_init` explicitly to suppress the warning\n",
      "  super()._check_params_vs_input(X, default_n_init=10)\n",
      "Processing videos:  11%|█▏        | 6/53 [03:05<23:25, 29.91s/it]"
     ]
    },
    {
     "name": "stdout",
     "output_type": "stream",
     "text": [
      "Plot saved to /content/drive/MyDrive/Frame-Level_R18_Unlabeled/PLOT/015-0_LPS_cluster_plot.png\n",
      "Frame cluster assignments saved to /content/drive/MyDrive/Frame-Level_R18_Unlabeled/CSV/015-0_LPS_frame_cluster_assignments.csv\n"
     ]
    },
    {
     "name": "stderr",
     "output_type": "stream",
     "text": [
      "/usr/local/lib/python3.10/dist-packages/sklearn/cluster/_kmeans.py:1416: FutureWarning: The default value of `n_init` will change from 10 to 'auto' in 1.4. Set the value of `n_init` explicitly to suppress the warning\n",
      "  super()._check_params_vs_input(X, default_n_init=10)\n",
      "Processing videos:  13%|█▎        | 7/53 [03:37<23:15, 30.35s/it]"
     ]
    },
    {
     "name": "stdout",
     "output_type": "stream",
     "text": [
      "Plot saved to /content/drive/MyDrive/Frame-Level_R18_Unlabeled/PLOT/015-0_LPT_cluster_plot.png\n",
      "Frame cluster assignments saved to /content/drive/MyDrive/Frame-Level_R18_Unlabeled/CSV/015-0_LPT_frame_cluster_assignments.csv\n"
     ]
    },
    {
     "name": "stderr",
     "output_type": "stream",
     "text": [
      "/usr/local/lib/python3.10/dist-packages/sklearn/cluster/_kmeans.py:1416: FutureWarning: The default value of `n_init` will change from 10 to 'auto' in 1.4. Set the value of `n_init` explicitly to suppress the warning\n",
      "  super()._check_params_vs_input(X, default_n_init=10)\n",
      "Processing videos:  15%|█▌        | 8/53 [04:09<23:18, 31.07s/it]"
     ]
    },
    {
     "name": "stdout",
     "output_type": "stream",
     "text": [
      "Plot saved to /content/drive/MyDrive/Frame-Level_R18_Unlabeled/PLOT/016-0_LLT_cluster_plot.png\n",
      "Frame cluster assignments saved to /content/drive/MyDrive/Frame-Level_R18_Unlabeled/CSV/016-0_LLT_frame_cluster_assignments.csv\n"
     ]
    },
    {
     "name": "stderr",
     "output_type": "stream",
     "text": [
      "/usr/local/lib/python3.10/dist-packages/sklearn/cluster/_kmeans.py:1416: FutureWarning: The default value of `n_init` will change from 10 to 'auto' in 1.4. Set the value of `n_init` explicitly to suppress the warning\n",
      "  super()._check_params_vs_input(X, default_n_init=10)\n",
      "Processing videos:  17%|█▋        | 9/53 [04:38<22:15, 30.36s/it]"
     ]
    },
    {
     "name": "stdout",
     "output_type": "stream",
     "text": [
      "Plot saved to /content/drive/MyDrive/Frame-Level_R18_Unlabeled/PLOT/017-0_LAS_cluster_plot.png\n",
      "Frame cluster assignments saved to /content/drive/MyDrive/Frame-Level_R18_Unlabeled/CSV/017-0_LAS_frame_cluster_assignments.csv\n"
     ]
    },
    {
     "name": "stderr",
     "output_type": "stream",
     "text": [
      "/usr/local/lib/python3.10/dist-packages/sklearn/cluster/_kmeans.py:1416: FutureWarning: The default value of `n_init` will change from 10 to 'auto' in 1.4. Set the value of `n_init` explicitly to suppress the warning\n",
      "  super()._check_params_vs_input(X, default_n_init=10)\n",
      "Processing videos:  19%|█▉        | 10/53 [05:10<22:07, 30.88s/it]"
     ]
    },
    {
     "name": "stdout",
     "output_type": "stream",
     "text": [
      "Plot saved to /content/drive/MyDrive/Frame-Level_R18_Unlabeled/PLOT/017-0_LAT_cluster_plot.png\n",
      "Frame cluster assignments saved to /content/drive/MyDrive/Frame-Level_R18_Unlabeled/CSV/017-0_LAT_frame_cluster_assignments.csv\n"
     ]
    },
    {
     "name": "stderr",
     "output_type": "stream",
     "text": [
      "/usr/local/lib/python3.10/dist-packages/sklearn/cluster/_kmeans.py:1416: FutureWarning: The default value of `n_init` will change from 10 to 'auto' in 1.4. Set the value of `n_init` explicitly to suppress the warning\n",
      "  super()._check_params_vs_input(X, default_n_init=10)\n",
      "Processing videos:  21%|██        | 11/53 [05:41<21:35, 30.85s/it]"
     ]
    },
    {
     "name": "stdout",
     "output_type": "stream",
     "text": [
      "Plot saved to /content/drive/MyDrive/Frame-Level_R18_Unlabeled/PLOT/019-0_LPT_cluster_plot.png\n",
      "Frame cluster assignments saved to /content/drive/MyDrive/Frame-Level_R18_Unlabeled/CSV/019-0_LPT_frame_cluster_assignments.csv\n"
     ]
    },
    {
     "name": "stderr",
     "output_type": "stream",
     "text": [
      "/usr/local/lib/python3.10/dist-packages/sklearn/cluster/_kmeans.py:1416: FutureWarning: The default value of `n_init` will change from 10 to 'auto' in 1.4. Set the value of `n_init` explicitly to suppress the warning\n",
      "  super()._check_params_vs_input(X, default_n_init=10)\n",
      "Processing videos:  23%|██▎       | 12/53 [05:59<18:21, 26.87s/it]"
     ]
    },
    {
     "name": "stdout",
     "output_type": "stream",
     "text": [
      "Plot saved to /content/drive/MyDrive/Frame-Level_R18_Unlabeled/PLOT/022-0_RAS_cluster_plot.png\n",
      "Frame cluster assignments saved to /content/drive/MyDrive/Frame-Level_R18_Unlabeled/CSV/022-0_RAS_frame_cluster_assignments.csv\n"
     ]
    },
    {
     "name": "stderr",
     "output_type": "stream",
     "text": [
      "/usr/local/lib/python3.10/dist-packages/sklearn/cluster/_kmeans.py:1416: FutureWarning: The default value of `n_init` will change from 10 to 'auto' in 1.4. Set the value of `n_init` explicitly to suppress the warning\n",
      "  super()._check_params_vs_input(X, default_n_init=10)\n",
      "Processing videos:  25%|██▍       | 13/53 [06:11<15:04, 22.62s/it]"
     ]
    },
    {
     "name": "stdout",
     "output_type": "stream",
     "text": [
      "Plot saved to /content/drive/MyDrive/Frame-Level_R18_Unlabeled/PLOT/022-0_RLT_cluster_plot.png\n",
      "Frame cluster assignments saved to /content/drive/MyDrive/Frame-Level_R18_Unlabeled/CSV/022-0_RLT_frame_cluster_assignments.csv\n"
     ]
    },
    {
     "name": "stderr",
     "output_type": "stream",
     "text": [
      "/usr/local/lib/python3.10/dist-packages/sklearn/cluster/_kmeans.py:1416: FutureWarning: The default value of `n_init` will change from 10 to 'auto' in 1.4. Set the value of `n_init` explicitly to suppress the warning\n",
      "  super()._check_params_vs_input(X, default_n_init=10)\n",
      "Processing videos:  26%|██▋       | 14/53 [06:35<14:51, 22.86s/it]"
     ]
    },
    {
     "name": "stdout",
     "output_type": "stream",
     "text": [
      "Plot saved to /content/drive/MyDrive/Frame-Level_R18_Unlabeled/PLOT/027-0_LLT_cluster_plot.png\n",
      "Frame cluster assignments saved to /content/drive/MyDrive/Frame-Level_R18_Unlabeled/CSV/027-0_LLT_frame_cluster_assignments.csv\n"
     ]
    },
    {
     "name": "stderr",
     "output_type": "stream",
     "text": [
      "/usr/local/lib/python3.10/dist-packages/sklearn/cluster/_kmeans.py:1416: FutureWarning: The default value of `n_init` will change from 10 to 'auto' in 1.4. Set the value of `n_init` explicitly to suppress the warning\n",
      "  super()._check_params_vs_input(X, default_n_init=10)\n",
      "Processing videos:  28%|██▊       | 15/53 [07:03<15:28, 24.42s/it]"
     ]
    },
    {
     "name": "stdout",
     "output_type": "stream",
     "text": [
      "Plot saved to /content/drive/MyDrive/Frame-Level_R18_Unlabeled/PLOT/027-0_LPT_cluster_plot.png\n",
      "Frame cluster assignments saved to /content/drive/MyDrive/Frame-Level_R18_Unlabeled/CSV/027-0_LPT_frame_cluster_assignments.csv\n"
     ]
    },
    {
     "name": "stderr",
     "output_type": "stream",
     "text": [
      "/usr/local/lib/python3.10/dist-packages/sklearn/cluster/_kmeans.py:1416: FutureWarning: The default value of `n_init` will change from 10 to 'auto' in 1.4. Set the value of `n_init` explicitly to suppress the warning\n",
      "  super()._check_params_vs_input(X, default_n_init=10)\n",
      "Processing videos:  30%|███       | 16/53 [07:18<13:22, 21.68s/it]"
     ]
    },
    {
     "name": "stdout",
     "output_type": "stream",
     "text": [
      "Plot saved to /content/drive/MyDrive/Frame-Level_R18_Unlabeled/PLOT/028-0_LAS_cluster_plot.png\n",
      "Frame cluster assignments saved to /content/drive/MyDrive/Frame-Level_R18_Unlabeled/CSV/028-0_LAS_frame_cluster_assignments.csv\n"
     ]
    },
    {
     "name": "stderr",
     "output_type": "stream",
     "text": [
      "/usr/local/lib/python3.10/dist-packages/sklearn/cluster/_kmeans.py:1416: FutureWarning: The default value of `n_init` will change from 10 to 'auto' in 1.4. Set the value of `n_init` explicitly to suppress the warning\n",
      "  super()._check_params_vs_input(X, default_n_init=10)\n",
      "Processing videos:  32%|███▏      | 17/53 [07:38<12:39, 21.10s/it]"
     ]
    },
    {
     "name": "stdout",
     "output_type": "stream",
     "text": [
      "Plot saved to /content/drive/MyDrive/Frame-Level_R18_Unlabeled/PLOT/028-0_LLS_cluster_plot.png\n",
      "Frame cluster assignments saved to /content/drive/MyDrive/Frame-Level_R18_Unlabeled/CSV/028-0_LLS_frame_cluster_assignments.csv\n"
     ]
    },
    {
     "name": "stderr",
     "output_type": "stream",
     "text": [
      "/usr/local/lib/python3.10/dist-packages/sklearn/cluster/_kmeans.py:1416: FutureWarning: The default value of `n_init` will change from 10 to 'auto' in 1.4. Set the value of `n_init` explicitly to suppress the warning\n",
      "  super()._check_params_vs_input(X, default_n_init=10)\n",
      "Processing videos:  34%|███▍      | 18/53 [07:56<11:40, 20.02s/it]"
     ]
    },
    {
     "name": "stdout",
     "output_type": "stream",
     "text": [
      "Plot saved to /content/drive/MyDrive/Frame-Level_R18_Unlabeled/PLOT/028-0_LLT_cluster_plot.png\n",
      "Frame cluster assignments saved to /content/drive/MyDrive/Frame-Level_R18_Unlabeled/CSV/028-0_LLT_frame_cluster_assignments.csv\n"
     ]
    },
    {
     "name": "stderr",
     "output_type": "stream",
     "text": [
      "/usr/local/lib/python3.10/dist-packages/sklearn/cluster/_kmeans.py:1416: FutureWarning: The default value of `n_init` will change from 10 to 'auto' in 1.4. Set the value of `n_init` explicitly to suppress the warning\n",
      "  super()._check_params_vs_input(X, default_n_init=10)\n",
      "Processing videos:  36%|███▌      | 19/53 [08:18<11:46, 20.79s/it]"
     ]
    },
    {
     "name": "stdout",
     "output_type": "stream",
     "text": [
      "Plot saved to /content/drive/MyDrive/Frame-Level_R18_Unlabeled/PLOT/028-0_LPS_cluster_plot.png\n",
      "Frame cluster assignments saved to /content/drive/MyDrive/Frame-Level_R18_Unlabeled/CSV/028-0_LPS_frame_cluster_assignments.csv\n"
     ]
    },
    {
     "name": "stderr",
     "output_type": "stream",
     "text": [
      "/usr/local/lib/python3.10/dist-packages/sklearn/cluster/_kmeans.py:1416: FutureWarning: The default value of `n_init` will change from 10 to 'auto' in 1.4. Set the value of `n_init` explicitly to suppress the warning\n",
      "  super()._check_params_vs_input(X, default_n_init=10)\n",
      "Processing videos:  38%|███▊      | 20/53 [08:37<11:10, 20.33s/it]"
     ]
    },
    {
     "name": "stdout",
     "output_type": "stream",
     "text": [
      "Plot saved to /content/drive/MyDrive/Frame-Level_R18_Unlabeled/PLOT/028-0_LPT_cluster_plot.png\n",
      "Frame cluster assignments saved to /content/drive/MyDrive/Frame-Level_R18_Unlabeled/CSV/028-0_LPT_frame_cluster_assignments.csv\n"
     ]
    },
    {
     "name": "stderr",
     "output_type": "stream",
     "text": [
      "/usr/local/lib/python3.10/dist-packages/sklearn/cluster/_kmeans.py:1416: FutureWarning: The default value of `n_init` will change from 10 to 'auto' in 1.4. Set the value of `n_init` explicitly to suppress the warning\n",
      "  super()._check_params_vs_input(X, default_n_init=10)\n",
      "Processing videos:  40%|███▉      | 21/53 [08:54<10:14, 19.19s/it]"
     ]
    },
    {
     "name": "stdout",
     "output_type": "stream",
     "text": [
      "Plot saved to /content/drive/MyDrive/Frame-Level_R18_Unlabeled/PLOT/028-0_RAS_cluster_plot.png\n",
      "Frame cluster assignments saved to /content/drive/MyDrive/Frame-Level_R18_Unlabeled/CSV/028-0_RAS_frame_cluster_assignments.csv\n"
     ]
    },
    {
     "name": "stderr",
     "output_type": "stream",
     "text": [
      "/usr/local/lib/python3.10/dist-packages/sklearn/cluster/_kmeans.py:1416: FutureWarning: The default value of `n_init` will change from 10 to 'auto' in 1.4. Set the value of `n_init` explicitly to suppress the warning\n",
      "  super()._check_params_vs_input(X, default_n_init=10)\n",
      "Processing videos:  42%|████▏     | 22/53 [09:12<09:44, 18.84s/it]"
     ]
    },
    {
     "name": "stdout",
     "output_type": "stream",
     "text": [
      "Plot saved to /content/drive/MyDrive/Frame-Level_R18_Unlabeled/PLOT/028-0_RLS_cluster_plot.png\n",
      "Frame cluster assignments saved to /content/drive/MyDrive/Frame-Level_R18_Unlabeled/CSV/028-0_RLS_frame_cluster_assignments.csv\n"
     ]
    },
    {
     "name": "stderr",
     "output_type": "stream",
     "text": [
      "/usr/local/lib/python3.10/dist-packages/sklearn/cluster/_kmeans.py:1416: FutureWarning: The default value of `n_init` will change from 10 to 'auto' in 1.4. Set the value of `n_init` explicitly to suppress the warning\n",
      "  super()._check_params_vs_input(X, default_n_init=10)\n",
      "Processing videos:  43%|████▎     | 23/53 [09:31<09:29, 18.99s/it]"
     ]
    },
    {
     "name": "stdout",
     "output_type": "stream",
     "text": [
      "Plot saved to /content/drive/MyDrive/Frame-Level_R18_Unlabeled/PLOT/028-0_RLT_cluster_plot.png\n",
      "Frame cluster assignments saved to /content/drive/MyDrive/Frame-Level_R18_Unlabeled/CSV/028-0_RLT_frame_cluster_assignments.csv\n"
     ]
    },
    {
     "name": "stderr",
     "output_type": "stream",
     "text": [
      "/usr/local/lib/python3.10/dist-packages/sklearn/cluster/_kmeans.py:1416: FutureWarning: The default value of `n_init` will change from 10 to 'auto' in 1.4. Set the value of `n_init` explicitly to suppress the warning\n",
      "  super()._check_params_vs_input(X, default_n_init=10)\n",
      "Processing videos:  45%|████▌     | 24/53 [09:55<09:53, 20.45s/it]"
     ]
    },
    {
     "name": "stdout",
     "output_type": "stream",
     "text": [
      "Plot saved to /content/drive/MyDrive/Frame-Level_R18_Unlabeled/PLOT/028-0_RPS_cluster_plot.png\n",
      "Frame cluster assignments saved to /content/drive/MyDrive/Frame-Level_R18_Unlabeled/CSV/028-0_RPS_frame_cluster_assignments.csv\n"
     ]
    },
    {
     "name": "stderr",
     "output_type": "stream",
     "text": [
      "/usr/local/lib/python3.10/dist-packages/sklearn/cluster/_kmeans.py:1416: FutureWarning: The default value of `n_init` will change from 10 to 'auto' in 1.4. Set the value of `n_init` explicitly to suppress the warning\n",
      "  super()._check_params_vs_input(X, default_n_init=10)\n",
      "Processing videos:  47%|████▋     | 25/53 [10:27<11:08, 23.87s/it]"
     ]
    },
    {
     "name": "stdout",
     "output_type": "stream",
     "text": [
      "Plot saved to /content/drive/MyDrive/Frame-Level_R18_Unlabeled/PLOT/028-0_RPT_cluster_plot.png\n",
      "Frame cluster assignments saved to /content/drive/MyDrive/Frame-Level_R18_Unlabeled/CSV/028-0_RPT_frame_cluster_assignments.csv\n"
     ]
    },
    {
     "name": "stderr",
     "output_type": "stream",
     "text": [
      "/usr/local/lib/python3.10/dist-packages/sklearn/cluster/_kmeans.py:1416: FutureWarning: The default value of `n_init` will change from 10 to 'auto' in 1.4. Set the value of `n_init` explicitly to suppress the warning\n",
      "  super()._check_params_vs_input(X, default_n_init=10)\n",
      "Processing videos:  49%|████▉     | 26/53 [10:49<10:29, 23.32s/it]"
     ]
    },
    {
     "name": "stdout",
     "output_type": "stream",
     "text": [
      "Plot saved to /content/drive/MyDrive/Frame-Level_R18_Unlabeled/PLOT/029-0_LAS_cluster_plot.png\n",
      "Frame cluster assignments saved to /content/drive/MyDrive/Frame-Level_R18_Unlabeled/CSV/029-0_LAS_frame_cluster_assignments.csv\n"
     ]
    },
    {
     "name": "stderr",
     "output_type": "stream",
     "text": [
      "/usr/local/lib/python3.10/dist-packages/sklearn/cluster/_kmeans.py:1416: FutureWarning: The default value of `n_init` will change from 10 to 'auto' in 1.4. Set the value of `n_init` explicitly to suppress the warning\n",
      "  super()._check_params_vs_input(X, default_n_init=10)\n",
      "Processing videos:  51%|█████     | 27/53 [11:07<09:24, 21.72s/it]"
     ]
    },
    {
     "name": "stdout",
     "output_type": "stream",
     "text": [
      "Plot saved to /content/drive/MyDrive/Frame-Level_R18_Unlabeled/PLOT/029-0_LLS_cluster_plot.png\n",
      "Frame cluster assignments saved to /content/drive/MyDrive/Frame-Level_R18_Unlabeled/CSV/029-0_LLS_frame_cluster_assignments.csv\n"
     ]
    },
    {
     "name": "stderr",
     "output_type": "stream",
     "text": [
      "/usr/local/lib/python3.10/dist-packages/sklearn/cluster/_kmeans.py:1416: FutureWarning: The default value of `n_init` will change from 10 to 'auto' in 1.4. Set the value of `n_init` explicitly to suppress the warning\n",
      "  super()._check_params_vs_input(X, default_n_init=10)\n",
      "Processing videos:  53%|█████▎    | 28/53 [11:27<08:52, 21.28s/it]"
     ]
    },
    {
     "name": "stdout",
     "output_type": "stream",
     "text": [
      "Plot saved to /content/drive/MyDrive/Frame-Level_R18_Unlabeled/PLOT/029-0_LLT_cluster_plot.png\n",
      "Frame cluster assignments saved to /content/drive/MyDrive/Frame-Level_R18_Unlabeled/CSV/029-0_LLT_frame_cluster_assignments.csv\n"
     ]
    },
    {
     "name": "stderr",
     "output_type": "stream",
     "text": [
      "/usr/local/lib/python3.10/dist-packages/sklearn/cluster/_kmeans.py:1416: FutureWarning: The default value of `n_init` will change from 10 to 'auto' in 1.4. Set the value of `n_init` explicitly to suppress the warning\n",
      "  super()._check_params_vs_input(X, default_n_init=10)\n",
      "Processing videos:  55%|█████▍    | 29/53 [11:44<07:56, 19.85s/it]"
     ]
    },
    {
     "name": "stdout",
     "output_type": "stream",
     "text": [
      "Plot saved to /content/drive/MyDrive/Frame-Level_R18_Unlabeled/PLOT/029-0_LPS_cluster_plot.png\n",
      "Frame cluster assignments saved to /content/drive/MyDrive/Frame-Level_R18_Unlabeled/CSV/029-0_LPS_frame_cluster_assignments.csv\n"
     ]
    },
    {
     "name": "stderr",
     "output_type": "stream",
     "text": [
      "/usr/local/lib/python3.10/dist-packages/sklearn/cluster/_kmeans.py:1416: FutureWarning: The default value of `n_init` will change from 10 to 'auto' in 1.4. Set the value of `n_init` explicitly to suppress the warning\n",
      "  super()._check_params_vs_input(X, default_n_init=10)\n",
      "Processing videos:  57%|█████▋    | 30/53 [12:05<07:48, 20.38s/it]"
     ]
    },
    {
     "name": "stdout",
     "output_type": "stream",
     "text": [
      "Plot saved to /content/drive/MyDrive/Frame-Level_R18_Unlabeled/PLOT/029-0_LPT_cluster_plot.png\n",
      "Frame cluster assignments saved to /content/drive/MyDrive/Frame-Level_R18_Unlabeled/CSV/029-0_LPT_frame_cluster_assignments.csv\n"
     ]
    },
    {
     "name": "stderr",
     "output_type": "stream",
     "text": [
      "/usr/local/lib/python3.10/dist-packages/sklearn/cluster/_kmeans.py:1416: FutureWarning: The default value of `n_init` will change from 10 to 'auto' in 1.4. Set the value of `n_init` explicitly to suppress the warning\n",
      "  super()._check_params_vs_input(X, default_n_init=10)\n",
      "Processing videos:  58%|█████▊    | 31/53 [12:31<08:04, 22.02s/it]"
     ]
    },
    {
     "name": "stdout",
     "output_type": "stream",
     "text": [
      "Plot saved to /content/drive/MyDrive/Frame-Level_R18_Unlabeled/PLOT/029-0_RAS_cluster_plot.png\n",
      "Frame cluster assignments saved to /content/drive/MyDrive/Frame-Level_R18_Unlabeled/CSV/029-0_RAS_frame_cluster_assignments.csv\n"
     ]
    },
    {
     "name": "stderr",
     "output_type": "stream",
     "text": [
      "/usr/local/lib/python3.10/dist-packages/sklearn/cluster/_kmeans.py:1416: FutureWarning: The default value of `n_init` will change from 10 to 'auto' in 1.4. Set the value of `n_init` explicitly to suppress the warning\n",
      "  super()._check_params_vs_input(X, default_n_init=10)\n",
      "Processing videos:  60%|██████    | 32/53 [12:44<06:42, 19.16s/it]"
     ]
    },
    {
     "name": "stdout",
     "output_type": "stream",
     "text": [
      "Plot saved to /content/drive/MyDrive/Frame-Level_R18_Unlabeled/PLOT/029-0_RLS_cluster_plot.png\n",
      "Frame cluster assignments saved to /content/drive/MyDrive/Frame-Level_R18_Unlabeled/CSV/029-0_RLS_frame_cluster_assignments.csv\n"
     ]
    },
    {
     "name": "stderr",
     "output_type": "stream",
     "text": [
      "/usr/local/lib/python3.10/dist-packages/sklearn/cluster/_kmeans.py:1416: FutureWarning: The default value of `n_init` will change from 10 to 'auto' in 1.4. Set the value of `n_init` explicitly to suppress the warning\n",
      "  super()._check_params_vs_input(X, default_n_init=10)\n",
      "Processing videos:  62%|██████▏   | 33/53 [13:00<06:05, 18.28s/it]"
     ]
    },
    {
     "name": "stdout",
     "output_type": "stream",
     "text": [
      "Plot saved to /content/drive/MyDrive/Frame-Level_R18_Unlabeled/PLOT/029-0_RLT_cluster_plot.png\n",
      "Frame cluster assignments saved to /content/drive/MyDrive/Frame-Level_R18_Unlabeled/CSV/029-0_RLT_frame_cluster_assignments.csv\n"
     ]
    },
    {
     "name": "stderr",
     "output_type": "stream",
     "text": [
      "/usr/local/lib/python3.10/dist-packages/sklearn/cluster/_kmeans.py:1416: FutureWarning: The default value of `n_init` will change from 10 to 'auto' in 1.4. Set the value of `n_init` explicitly to suppress the warning\n",
      "  super()._check_params_vs_input(X, default_n_init=10)\n",
      "Processing videos:  64%|██████▍   | 34/53 [13:19<05:52, 18.56s/it]"
     ]
    },
    {
     "name": "stdout",
     "output_type": "stream",
     "text": [
      "Plot saved to /content/drive/MyDrive/Frame-Level_R18_Unlabeled/PLOT/029-0_RPS_cluster_plot.png\n",
      "Frame cluster assignments saved to /content/drive/MyDrive/Frame-Level_R18_Unlabeled/CSV/029-0_RPS_frame_cluster_assignments.csv\n"
     ]
    },
    {
     "name": "stderr",
     "output_type": "stream",
     "text": [
      "/usr/local/lib/python3.10/dist-packages/sklearn/cluster/_kmeans.py:1416: FutureWarning: The default value of `n_init` will change from 10 to 'auto' in 1.4. Set the value of `n_init` explicitly to suppress the warning\n",
      "  super()._check_params_vs_input(X, default_n_init=10)\n",
      "Processing videos:  66%|██████▌   | 35/53 [13:47<06:21, 21.21s/it]"
     ]
    },
    {
     "name": "stdout",
     "output_type": "stream",
     "text": [
      "Plot saved to /content/drive/MyDrive/Frame-Level_R18_Unlabeled/PLOT/029-0_RPT_cluster_plot.png\n",
      "Frame cluster assignments saved to /content/drive/MyDrive/Frame-Level_R18_Unlabeled/CSV/029-0_RPT_frame_cluster_assignments.csv\n"
     ]
    },
    {
     "name": "stderr",
     "output_type": "stream",
     "text": [
      "/usr/local/lib/python3.10/dist-packages/sklearn/cluster/_kmeans.py:1416: FutureWarning: The default value of `n_init` will change from 10 to 'auto' in 1.4. Set the value of `n_init` explicitly to suppress the warning\n",
      "  super()._check_params_vs_input(X, default_n_init=10)\n",
      "Processing videos:  68%|██████▊   | 36/53 [14:06<05:49, 20.54s/it]"
     ]
    },
    {
     "name": "stdout",
     "output_type": "stream",
     "text": [
      "Plot saved to /content/drive/MyDrive/Frame-Level_R18_Unlabeled/PLOT/030-0_LAS_cluster_plot.png\n",
      "Frame cluster assignments saved to /content/drive/MyDrive/Frame-Level_R18_Unlabeled/CSV/030-0_LAS_frame_cluster_assignments.csv\n"
     ]
    },
    {
     "name": "stderr",
     "output_type": "stream",
     "text": [
      "/usr/local/lib/python3.10/dist-packages/sklearn/cluster/_kmeans.py:1416: FutureWarning: The default value of `n_init` will change from 10 to 'auto' in 1.4. Set the value of `n_init` explicitly to suppress the warning\n",
      "  super()._check_params_vs_input(X, default_n_init=10)\n",
      "Processing videos:  70%|██████▉   | 37/53 [14:22<05:07, 19.23s/it]"
     ]
    },
    {
     "name": "stdout",
     "output_type": "stream",
     "text": [
      "Plot saved to /content/drive/MyDrive/Frame-Level_R18_Unlabeled/PLOT/030-0_LLS_cluster_plot.png\n",
      "Frame cluster assignments saved to /content/drive/MyDrive/Frame-Level_R18_Unlabeled/CSV/030-0_LLS_frame_cluster_assignments.csv\n"
     ]
    },
    {
     "name": "stderr",
     "output_type": "stream",
     "text": [
      "/usr/local/lib/python3.10/dist-packages/sklearn/cluster/_kmeans.py:1416: FutureWarning: The default value of `n_init` will change from 10 to 'auto' in 1.4. Set the value of `n_init` explicitly to suppress the warning\n",
      "  super()._check_params_vs_input(X, default_n_init=10)\n",
      "Processing videos:  72%|███████▏  | 38/53 [14:45<05:08, 20.58s/it]"
     ]
    },
    {
     "name": "stdout",
     "output_type": "stream",
     "text": [
      "Plot saved to /content/drive/MyDrive/Frame-Level_R18_Unlabeled/PLOT/030-0_LLT_cluster_plot.png\n",
      "Frame cluster assignments saved to /content/drive/MyDrive/Frame-Level_R18_Unlabeled/CSV/030-0_LLT_frame_cluster_assignments.csv\n"
     ]
    },
    {
     "name": "stderr",
     "output_type": "stream",
     "text": [
      "/usr/local/lib/python3.10/dist-packages/sklearn/cluster/_kmeans.py:1416: FutureWarning: The default value of `n_init` will change from 10 to 'auto' in 1.4. Set the value of `n_init` explicitly to suppress the warning\n",
      "  super()._check_params_vs_input(X, default_n_init=10)\n",
      "Processing videos:  74%|███████▎  | 39/53 [15:01<04:25, 18.95s/it]"
     ]
    },
    {
     "name": "stdout",
     "output_type": "stream",
     "text": [
      "Plot saved to /content/drive/MyDrive/Frame-Level_R18_Unlabeled/PLOT/030-0_LPS_cluster_plot.png\n",
      "Frame cluster assignments saved to /content/drive/MyDrive/Frame-Level_R18_Unlabeled/CSV/030-0_LPS_frame_cluster_assignments.csv\n"
     ]
    },
    {
     "name": "stderr",
     "output_type": "stream",
     "text": [
      "/usr/local/lib/python3.10/dist-packages/sklearn/cluster/_kmeans.py:1416: FutureWarning: The default value of `n_init` will change from 10 to 'auto' in 1.4. Set the value of `n_init` explicitly to suppress the warning\n",
      "  super()._check_params_vs_input(X, default_n_init=10)\n",
      "Processing videos:  75%|███████▌  | 40/53 [15:21<04:11, 19.34s/it]"
     ]
    },
    {
     "name": "stdout",
     "output_type": "stream",
     "text": [
      "Plot saved to /content/drive/MyDrive/Frame-Level_R18_Unlabeled/PLOT/030-0_LPT_cluster_plot.png\n",
      "Frame cluster assignments saved to /content/drive/MyDrive/Frame-Level_R18_Unlabeled/CSV/030-0_LPT_frame_cluster_assignments.csv\n"
     ]
    },
    {
     "name": "stderr",
     "output_type": "stream",
     "text": [
      "/usr/local/lib/python3.10/dist-packages/sklearn/cluster/_kmeans.py:1416: FutureWarning: The default value of `n_init` will change from 10 to 'auto' in 1.4. Set the value of `n_init` explicitly to suppress the warning\n",
      "  super()._check_params_vs_input(X, default_n_init=10)\n",
      "Processing videos:  77%|███████▋  | 41/53 [15:39<03:48, 19.07s/it]"
     ]
    },
    {
     "name": "stdout",
     "output_type": "stream",
     "text": [
      "Plot saved to /content/drive/MyDrive/Frame-Level_R18_Unlabeled/PLOT/030-0_RAS_cluster_plot.png\n",
      "Frame cluster assignments saved to /content/drive/MyDrive/Frame-Level_R18_Unlabeled/CSV/030-0_RAS_frame_cluster_assignments.csv\n"
     ]
    },
    {
     "name": "stderr",
     "output_type": "stream",
     "text": [
      "/usr/local/lib/python3.10/dist-packages/sklearn/cluster/_kmeans.py:1416: FutureWarning: The default value of `n_init` will change from 10 to 'auto' in 1.4. Set the value of `n_init` explicitly to suppress the warning\n",
      "  super()._check_params_vs_input(X, default_n_init=10)\n",
      "Processing videos:  79%|███████▉  | 42/53 [15:57<03:23, 18.53s/it]"
     ]
    },
    {
     "name": "stdout",
     "output_type": "stream",
     "text": [
      "Plot saved to /content/drive/MyDrive/Frame-Level_R18_Unlabeled/PLOT/030-0_RLS_cluster_plot.png\n",
      "Frame cluster assignments saved to /content/drive/MyDrive/Frame-Level_R18_Unlabeled/CSV/030-0_RLS_frame_cluster_assignments.csv\n"
     ]
    },
    {
     "name": "stderr",
     "output_type": "stream",
     "text": [
      "/usr/local/lib/python3.10/dist-packages/sklearn/cluster/_kmeans.py:1416: FutureWarning: The default value of `n_init` will change from 10 to 'auto' in 1.4. Set the value of `n_init` explicitly to suppress the warning\n",
      "  super()._check_params_vs_input(X, default_n_init=10)\n",
      "Processing videos:  81%|████████  | 43/53 [16:20<03:20, 20.03s/it]"
     ]
    },
    {
     "name": "stdout",
     "output_type": "stream",
     "text": [
      "Plot saved to /content/drive/MyDrive/Frame-Level_R18_Unlabeled/PLOT/030-0_RLT_cluster_plot.png\n",
      "Frame cluster assignments saved to /content/drive/MyDrive/Frame-Level_R18_Unlabeled/CSV/030-0_RLT_frame_cluster_assignments.csv\n"
     ]
    },
    {
     "name": "stderr",
     "output_type": "stream",
     "text": [
      "/usr/local/lib/python3.10/dist-packages/sklearn/cluster/_kmeans.py:1416: FutureWarning: The default value of `n_init` will change from 10 to 'auto' in 1.4. Set the value of `n_init` explicitly to suppress the warning\n",
      "  super()._check_params_vs_input(X, default_n_init=10)\n",
      "Processing videos:  83%|████████▎ | 44/53 [16:36<02:49, 18.84s/it]"
     ]
    },
    {
     "name": "stdout",
     "output_type": "stream",
     "text": [
      "Plot saved to /content/drive/MyDrive/Frame-Level_R18_Unlabeled/PLOT/030-0_RPS_cluster_plot.png\n",
      "Frame cluster assignments saved to /content/drive/MyDrive/Frame-Level_R18_Unlabeled/CSV/030-0_RPS_frame_cluster_assignments.csv\n"
     ]
    },
    {
     "name": "stderr",
     "output_type": "stream",
     "text": [
      "/usr/local/lib/python3.10/dist-packages/sklearn/cluster/_kmeans.py:1416: FutureWarning: The default value of `n_init` will change from 10 to 'auto' in 1.4. Set the value of `n_init` explicitly to suppress the warning\n",
      "  super()._check_params_vs_input(X, default_n_init=10)\n",
      "Processing videos:  85%|████████▍ | 45/53 [16:51<02:20, 17.53s/it]"
     ]
    },
    {
     "name": "stdout",
     "output_type": "stream",
     "text": [
      "Plot saved to /content/drive/MyDrive/Frame-Level_R18_Unlabeled/PLOT/030-0_RPT_cluster_plot.png\n",
      "Frame cluster assignments saved to /content/drive/MyDrive/Frame-Level_R18_Unlabeled/CSV/030-0_RPT_frame_cluster_assignments.csv\n"
     ]
    },
    {
     "name": "stderr",
     "output_type": "stream",
     "text": [
      "/usr/local/lib/python3.10/dist-packages/sklearn/cluster/_kmeans.py:1416: FutureWarning: The default value of `n_init` will change from 10 to 'auto' in 1.4. Set the value of `n_init` explicitly to suppress the warning\n",
      "  super()._check_params_vs_input(X, default_n_init=10)\n",
      "Processing videos:  87%|████████▋ | 46/53 [17:00<01:46, 15.15s/it]"
     ]
    },
    {
     "name": "stdout",
     "output_type": "stream",
     "text": [
      "Plot saved to /content/drive/MyDrive/Frame-Level_R18_Unlabeled/PLOT/031-0_RAS_cluster_plot.png\n",
      "Frame cluster assignments saved to /content/drive/MyDrive/Frame-Level_R18_Unlabeled/CSV/031-0_RAS_frame_cluster_assignments.csv\n"
     ]
    },
    {
     "name": "stderr",
     "output_type": "stream",
     "text": [
      "/usr/local/lib/python3.10/dist-packages/sklearn/cluster/_kmeans.py:1416: FutureWarning: The default value of `n_init` will change from 10 to 'auto' in 1.4. Set the value of `n_init` explicitly to suppress the warning\n",
      "  super()._check_params_vs_input(X, default_n_init=10)\n",
      "Processing videos:  89%|████████▊ | 47/53 [17:16<01:32, 15.35s/it]"
     ]
    },
    {
     "name": "stdout",
     "output_type": "stream",
     "text": [
      "Plot saved to /content/drive/MyDrive/Frame-Level_R18_Unlabeled/PLOT/031-0_RLS_cluster_plot.png\n",
      "Frame cluster assignments saved to /content/drive/MyDrive/Frame-Level_R18_Unlabeled/CSV/031-0_RLS_frame_cluster_assignments.csv\n"
     ]
    },
    {
     "name": "stderr",
     "output_type": "stream",
     "text": [
      "/usr/local/lib/python3.10/dist-packages/sklearn/cluster/_kmeans.py:1416: FutureWarning: The default value of `n_init` will change from 10 to 'auto' in 1.4. Set the value of `n_init` explicitly to suppress the warning\n",
      "  super()._check_params_vs_input(X, default_n_init=10)\n",
      "Processing videos:  91%|█████████ | 48/53 [17:34<01:20, 16.07s/it]"
     ]
    },
    {
     "name": "stdout",
     "output_type": "stream",
     "text": [
      "Plot saved to /content/drive/MyDrive/Frame-Level_R18_Unlabeled/PLOT/043-0_RAS_cluster_plot.png\n",
      "Frame cluster assignments saved to /content/drive/MyDrive/Frame-Level_R18_Unlabeled/CSV/043-0_RAS_frame_cluster_assignments.csv\n",
      "Video /content/drive/Shareddrives/mBSUS/Data/Raw Data/mbsus_case_videos/052-0_LPT.mp4 not found.\n"
     ]
    },
    {
     "name": "stderr",
     "output_type": "stream",
     "text": [
      "/usr/local/lib/python3.10/dist-packages/sklearn/cluster/_kmeans.py:1416: FutureWarning: The default value of `n_init` will change from 10 to 'auto' in 1.4. Set the value of `n_init` explicitly to suppress the warning\n",
      "  super()._check_params_vs_input(X, default_n_init=10)\n",
      "Processing videos:  94%|█████████▍| 50/53 [17:47<00:35, 11.68s/it]"
     ]
    },
    {
     "name": "stdout",
     "output_type": "stream",
     "text": [
      "Plot saved to /content/drive/MyDrive/Frame-Level_R18_Unlabeled/PLOT/055-0_LLS_cluster_plot.png\n",
      "Frame cluster assignments saved to /content/drive/MyDrive/Frame-Level_R18_Unlabeled/CSV/055-0_LLS_frame_cluster_assignments.csv\n"
     ]
    },
    {
     "name": "stderr",
     "output_type": "stream",
     "text": [
      "/usr/local/lib/python3.10/dist-packages/sklearn/cluster/_kmeans.py:1416: FutureWarning: The default value of `n_init` will change from 10 to 'auto' in 1.4. Set the value of `n_init` explicitly to suppress the warning\n",
      "  super()._check_params_vs_input(X, default_n_init=10)\n",
      "Processing videos:  96%|█████████▌| 51/53 [18:03<00:25, 12.77s/it]"
     ]
    },
    {
     "name": "stdout",
     "output_type": "stream",
     "text": [
      "Plot saved to /content/drive/MyDrive/Frame-Level_R18_Unlabeled/PLOT/055-0_LLT_cluster_plot.png\n",
      "Frame cluster assignments saved to /content/drive/MyDrive/Frame-Level_R18_Unlabeled/CSV/055-0_LLT_frame_cluster_assignments.csv\n"
     ]
    },
    {
     "name": "stderr",
     "output_type": "stream",
     "text": [
      "/usr/local/lib/python3.10/dist-packages/sklearn/cluster/_kmeans.py:1416: FutureWarning: The default value of `n_init` will change from 10 to 'auto' in 1.4. Set the value of `n_init` explicitly to suppress the warning\n",
      "  super()._check_params_vs_input(X, default_n_init=10)\n",
      "Processing videos:  98%|█████████▊| 52/53 [18:20<00:13, 13.86s/it]"
     ]
    },
    {
     "name": "stdout",
     "output_type": "stream",
     "text": [
      "Plot saved to /content/drive/MyDrive/Frame-Level_R18_Unlabeled/PLOT/066-0_LAS_cluster_plot.png\n",
      "Frame cluster assignments saved to /content/drive/MyDrive/Frame-Level_R18_Unlabeled/CSV/066-0_LAS_frame_cluster_assignments.csv\n"
     ]
    },
    {
     "name": "stderr",
     "output_type": "stream",
     "text": [
      "/usr/local/lib/python3.10/dist-packages/sklearn/cluster/_kmeans.py:1416: FutureWarning: The default value of `n_init` will change from 10 to 'auto' in 1.4. Set the value of `n_init` explicitly to suppress the warning\n",
      "  super()._check_params_vs_input(X, default_n_init=10)\n",
      "Processing videos: 100%|██████████| 53/53 [18:37<00:00, 21.08s/it]"
     ]
    },
    {
     "name": "stdout",
     "output_type": "stream",
     "text": [
      "Plot saved to /content/drive/MyDrive/Frame-Level_R18_Unlabeled/PLOT/066-0_LAT_cluster_plot.png\n",
      "Frame cluster assignments saved to /content/drive/MyDrive/Frame-Level_R18_Unlabeled/CSV/066-0_LAT_frame_cluster_assignments.csv\n"
     ]
    },
    {
     "name": "stderr",
     "output_type": "stream",
     "text": [
      "\n"
     ]
    }
   ],
   "source": [
    "import cv2\n",
    "import numpy as np\n",
    "import os\n",
    "import pandas as pd\n",
    "import torch\n",
    "import torch.nn as nn\n",
    "import torchvision.transforms as transforms\n",
    "from torchvision import models\n",
    "from sklearn.cluster import KMeans\n",
    "from sklearn.decomposition import PCA\n",
    "import matplotlib.pyplot as plt\n",
    "from tqdm import tqdm\n",
    "\n",
    "N_CLUSTERS = 2\n",
    "FRAME_SIZE = (224, 224)  \n",
    "\n",
    "def extract_resnet_features(frame, model, device):\n",
    "\n",
    "    transform = transforms.Compose([\n",
    "        transforms.ToPILImage(),\n",
    "        transforms.Resize(FRAME_SIZE),\n",
    "        transforms.ToTensor(),\n",
    "        transforms.Normalize(mean=[0.485, 0.456, 0.406], std=[0.229, 0.224, 0.225]),\n",
    "    ])\n",
    "\n",
    "    frame = transform(frame).unsqueeze(0).to(device)\n",
    "\n",
    "    with torch.no_grad():\n",
    "        features = model(frame)\n",
    "    return features.cpu().numpy().flatten()\n",
    "\n",
    "def process_video_frame_by_frame(video_path, model, device):\n",
    "    cap = cv2.VideoCapture(video_path)\n",
    "    features_list = []\n",
    "\n",
    "    while cap.isOpened():\n",
    "        ret, frame = cap.read()\n",
    "        if not ret:\n",
    "            break\n",
    "        features = extract_resnet_features(frame, model, device)\n",
    "        features_list.append(features)\n",
    "\n",
    "    cap.release()\n",
    "    return np.array(features_list)\n",
    "\n",
    "def cluster_features(features, n_clusters=N_CLUSTERS):\n",
    "    kmeans = KMeans(n_clusters=n_clusters, random_state=0).fit(features)\n",
    "    return kmeans.labels_, kmeans.cluster_centers_\n",
    "\n",
    "def visualize_clusters(features, labels, output_plot_path, n_clusters=N_CLUSTERS):\n",
    "    pca = PCA(n_components=2)\n",
    "    reduced_features = pca.fit_transform(features)\n",
    "\n",
    "    plt.figure(figsize=(10, 6))\n",
    "    for i in range(n_clusters):\n",
    "        cluster_points = reduced_features[labels == i]\n",
    "        plt.scatter(cluster_points[:, 0], cluster_points[:, 1], label=f'Cluster {i}')\n",
    "\n",
    "    plt.legend()\n",
    "    plt.title('Clusters of Video Frames Based on ResNet-18 Features')\n",
    "    plt.xlabel('Principal Component 1')\n",
    "    plt.ylabel('Principal Component 2')\n",
    "    plt.savefig(output_plot_path)\n",
    "    plt.close()\n",
    "    print(f'Plot saved to {output_plot_path}')\n",
    "\n",
    "def save_frame_cluster_assignments_to_csv(frame_labels, output_csv_path):\n",
    "    df = pd.DataFrame({'Frame': np.arange(len(frame_labels)), 'Cluster': frame_labels})\n",
    "    df.to_csv(output_csv_path, index=False)\n",
    "    print(f'Frame cluster assignments saved to {output_csv_path}')\n",
    "\n",
    "device = torch.device('cuda' if torch.cuda.is_available() else 'cpu')\n",
    "resnet18 = models.resnet18(pretrained=True)\n",
    "resnet18 = nn.Sequential(*list(resnet18.children())[:-1])  \n",
    "resnet18 = resnet18.to(device)\n",
    "resnet18.eval()\n",
    "\n",
    "input_csv_path = '/content/Frame-level_LBP - Sheet1.csv'\n",
    "df_videos = pd.read_csv(input_csv_path)\n",
    "\n",
    "df_videos_to_process = df_videos[df_videos['Misclassification Rate'].isna() &\n",
    "                                 df_videos['Misclassification Rate(%)'].isna() &\n",
    "                                 df_videos['Precision'].isna()]\n",
    "\n",
    "output_plot_dir = '/content/drive/MyDrive/Frame-Level_R18_Unlabeled/PLOT'\n",
    "output_csv_dir = '/content/drive/MyDrive/Frame-Level_R18_Unlabeled/CSV'\n",
    "os.makedirs(output_plot_dir, exist_ok=True)\n",
    "os.makedirs(output_csv_dir, exist_ok=True)\n",
    "\n",
    "for index, row in tqdm(df_videos_to_process.iterrows(), total=df_videos_to_process.shape[0], desc='Processing videos'):\n",
    "    video_id = row['Video_ID']  \n",
    "    region = row['Region']  \n",
    "    video_path = f'/content/drive/Shareddrives/mBSUS/Data/Raw Data/mbsus_case_videos/{video_id}_{region}.mp4'\n",
    "\n",
    "    if not os.path.exists(video_path):\n",
    "        print(f\"Video {video_path} not found.\")\n",
    "        continue\n",
    "\n",
    " \n",
    "    resnet_features = process_video_frame_by_frame(video_path, resnet18, device)\n",
    "\n",
    " \n",
    "    frame_labels, _ = cluster_features(resnet_features)\n",
    "\n",
    "    \n",
    "    output_plot_path = os.path.join(output_plot_dir, f'{video_id}_{region}_cluster_plot.png')\n",
    "    visualize_clusters(resnet_features, frame_labels, output_plot_path)\n",
    "\n",
    "    output_csv_path = os.path.join(output_csv_dir, f'{video_id}_{region}_frame_cluster_assignments.csv')\n",
    "    save_frame_cluster_assignments_to_csv(frame_labels, output_csv_path)\n"
   ]
  },
  {
   "cell_type": "code",
   "execution_count": null,
   "metadata": {
    "colab": {
     "base_uri": "https://localhost:8080/",
     "height": 705
    },
    "executionInfo": {
     "elapsed": 21280,
     "status": "ok",
     "timestamp": 1722215199074,
     "user": {
      "displayName": "Saunak Bhattacharjee",
      "userId": "02602491169085829743"
     },
     "user_tz": 240
    },
    "id": "vb39tGdHamfM",
    "outputId": "7339dcb1-8a23-4eb8-a12b-8226ec78c6a9"
   },
   "outputs": [
    {
     "name": "stderr",
     "output_type": "stream",
     "text": [
      "/usr/local/lib/python3.10/dist-packages/torchvision/models/_utils.py:208: UserWarning: The parameter 'pretrained' is deprecated since 0.13 and may be removed in the future, please use 'weights' instead.\n",
      "  warnings.warn(\n",
      "/usr/local/lib/python3.10/dist-packages/torchvision/models/_utils.py:223: UserWarning: Arguments other than a weight enum or `None` for 'weights' are deprecated since 0.13 and may be removed in the future. The current behavior is equivalent to passing `weights=ResNet18_Weights.IMAGENET1K_V1`. You can also use `weights=ResNet18_Weights.DEFAULT` to get the most up-to-date weights.\n",
      "  warnings.warn(msg)\n",
      "/usr/local/lib/python3.10/dist-packages/sklearn/cluster/_kmeans.py:1416: FutureWarning: The default value of `n_init` will change from 10 to 'auto' in 1.4. Set the value of `n_init` explicitly to suppress the warning\n",
      "  super()._check_params_vs_input(X, default_n_init=10)\n"
     ]
    },
    {
     "data": {
      "image/png": "[encoded data removed]",
      "text/plain": [
       "<Figure size 1000x600 with 1 Axes>"
      ]
     },
     "metadata": {},
     "output_type": "display_data"
    },
    {
     "name": "stdout",
     "output_type": "stream",
     "text": [
      "Frame cluster assignments saved to 187_0_RPSframe_cluster_assignments.csv\n"
     ]
    }
   ],
   "source": [
    "\n",
    "N_CLUSTERS = 2\n",
    "FRAME_SIZE = (224, 224)  \n",
    "\n",
    "def extract_resnet_features(frame, model, device):\n",
    "    transform = transforms.Compose([\n",
    "        transforms.ToPILImage(),\n",
    "        transforms.Resize(FRAME_SIZE),\n",
    "        transforms.ToTensor(),\n",
    "        transforms.Normalize(mean=[0.485, 0.456, 0.406], std=[0.229, 0.224, 0.225]),\n",
    "    ])\n",
    "\n",
    "    frame = transform(frame).unsqueeze(0).to(device)\n",
    "\n",
    "\n",
    "    with torch.no_grad():\n",
    "        features = model(frame)\n",
    "    return features.cpu().numpy().flatten()\n",
    "\n",
    "\n",
    "def process_video_frame_by_frame(video_path, model, device):\n",
    "    cap = cv2.VideoCapture(video_path)\n",
    "    features_list = []\n",
    "\n",
    "    while cap.isOpened():\n",
    "        ret, frame = cap.read()\n",
    "        if not ret:\n",
    "            break\n",
    "        features = extract_resnet_features(frame, model, device)\n",
    "        features_list.append(features)\n",
    "\n",
    "    cap.release()\n",
    "    return np.array(features_list)\n",
    "\n",
    "def cluster_features(features, n_clusters=N_CLUSTERS):\n",
    "    kmeans = KMeans(n_clusters=n_clusters, random_state=0).fit(features)\n",
    "    return kmeans.labels_, kmeans.cluster_centers_\n",
    "\n",
    "# Function to visualize clusters using PCA\n",
    "def visualize_clusters(features, labels, n_clusters=N_CLUSTERS):\n",
    "    pca = PCA(n_components=2)\n",
    "    reduced_features = pca.fit_transform(features)\n",
    "\n",
    "    plt.figure(figsize=(10, 6))\n",
    "    for i in range(n_clusters):\n",
    "        cluster_points = reduced_features[labels == i]\n",
    "        plt.scatter(cluster_points[:, 0], cluster_points[:, 1], label=f'Cluster {i}')\n",
    "\n",
    "    plt.legend()\n",
    "    plt.title('Clusters of Video Frames Based on ResNet-18 Features')\n",
    "    plt.xlabel('Principal Component 1')\n",
    "    plt.ylabel('Principal Component 2')\n",
    "    plt.show()\n",
    "\n",
    "def save_frame_cluster_assignments_to_csv(frame_labels, output_csv_path):\n",
    "    df = pd.DataFrame({'Frame': np.arange(len(frame_labels)), 'Cluster': frame_labels})\n",
    "    df.to_csv(output_csv_path, index=False)\n",
    "    print(f'Frame cluster assignments saved to {output_csv_path}')\n",
    "\n",
    "device = torch.device('cuda' if torch.cuda.is_available() else 'cpu')\n",
    "resnet18 = models.resnet18(pretrained=True)\n",
    "resnet18 = nn.Sequential(*list(resnet18.children())[:-1])  \n",
    "resnet18 = resnet18.to(device)\n",
    "resnet18.eval()\n",
    "\n",
    "video_path = '/content/drive/Shareddrives/mBSUS/Data/Raw Data/mbsus_case_videos/187-0_RPS.mp4'\n",
    "\n",
    "resnet_features = process_video_frame_by_frame(video_path, resnet18, device)\n",
    "\n",
    "frame_labels, _ = cluster_features(resnet_features)\n",
    "\n",
    "visualize_clusters(resnet_features, frame_labels)\n",
    "\n",
    "output_csv_path = '187_0_RPSframe_cluster_assignments.csv'\n",
    "save_frame_cluster_assignments_to_csv(frame_labels, output_csv_path)\n"
   ]
  },
  {
   "cell_type": "markdown",
   "metadata": {},
   "source": [
    "This was done to highlight the clinically relevant frames (frames with consolidation assigned by clinicians)"
   ]
  },
  {
   "cell_type": "code",
   "execution_count": null,
   "metadata": {
    "colab": {
     "base_uri": "https://localhost:8080/",
     "height": 705
    },
    "executionInfo": {
     "elapsed": 22693,
     "status": "ok",
     "timestamp": 1722296018982,
     "user": {
      "displayName": "Saunak Bhattacharjee",
      "userId": "02602491169085829743"
     },
     "user_tz": 240
    },
    "id": "wBp_7cRR0bQN",
    "outputId": "79280958-cabd-4acc-f21a-9cda99a5e5f7"
   },
   "outputs": [
    {
     "name": "stderr",
     "output_type": "stream",
     "text": [
      "/usr/local/lib/python3.10/dist-packages/torchvision/models/_utils.py:208: UserWarning: The parameter 'pretrained' is deprecated since 0.13 and may be removed in the future, please use 'weights' instead.\n",
      "  warnings.warn(\n",
      "/usr/local/lib/python3.10/dist-packages/torchvision/models/_utils.py:223: UserWarning: Arguments other than a weight enum or `None` for 'weights' are deprecated since 0.13 and may be removed in the future. The current behavior is equivalent to passing `weights=ResNet18_Weights.IMAGENET1K_V1`. You can also use `weights=ResNet18_Weights.DEFAULT` to get the most up-to-date weights.\n",
      "  warnings.warn(msg)\n",
      "/usr/local/lib/python3.10/dist-packages/sklearn/cluster/_kmeans.py:1416: FutureWarning: The default value of `n_init` will change from 10 to 'auto' in 1.4. Set the value of `n_init` explicitly to suppress the warning\n",
      "  super()._check_params_vs_input(X, default_n_init=10)\n"
     ]
    },
    {
     "data": {
      "image/png": "[encoded data removed]",
      "text/plain": [
       "<Figure size 1000x600 with 1 Axes>"
      ]
     },
     "metadata": {},
     "output_type": "display_data"
    },
    {
     "name": "stdout",
     "output_type": "stream",
     "text": [
      "Frame cluster assignments saved to frame_cluster_assignments_173_0_RAT.csv\n"
     ]
    }
   ],
   "source": [
    "N_CLUSTERS = 2\n",
    "FRAME_SIZE = (224, 224)\n",
    "\n",
    "def extract_resnet_features(frame, model, device):\n",
    "    transform = transforms.Compose([\n",
    "        transforms.ToPILImage(),\n",
    "        transforms.Resize(FRAME_SIZE),\n",
    "        transforms.ToTensor(),\n",
    "        transforms.Normalize(mean=[0.485, 0.456, 0.406], std=[0.229, 0.224, 0.225]),\n",
    "    ])\n",
    "\n",
    "    frame = transform(frame).unsqueeze(0).to(device)\n",
    "\n",
    "    with torch.no_grad():\n",
    "        features = model(frame)\n",
    "    return features.cpu().numpy().flatten()\n",
    "\n",
    "\n",
    "def process_video_frame_by_frame(video_path, model, device):\n",
    "    cap = cv2.VideoCapture(video_path)\n",
    "    features_list = []\n",
    "\n",
    "    while cap.isOpened():\n",
    "        ret, frame = cap.read()\n",
    "        if not ret:\n",
    "            break\n",
    "        features = extract_resnet_features(frame, model, device)\n",
    "        features_list.append(features)\n",
    "\n",
    "    cap.release()\n",
    "    return np.array(features_list)\n",
    "\n",
    "def cluster_features(features, n_clusters=N_CLUSTERS):\n",
    "    kmeans = KMeans(n_clusters=n_clusters, random_state=0).fit(features)\n",
    "    return kmeans.labels_, kmeans.cluster_centers_\n",
    "\n",
    "def visualize_clusters(features, labels, highlighted_frames, n_clusters=N_CLUSTERS):\n",
    "    pca = PCA(n_components=2)\n",
    "    reduced_features = pca.fit_transform(features)\n",
    "\n",
    "    plt.figure(figsize=(10, 6))\n",
    "    cluster_colors = []\n",
    "    for i in range(n_clusters):\n",
    "        cluster_points = reduced_features[labels == i]\n",
    "        scatter = plt.scatter(cluster_points[:, 0], cluster_points[:, 1], label=f'Cluster {i}')\n",
    "        cluster_colors.append(scatter.get_facecolor()[0])\n",
    "\n",
    " \n",
    "    for idx in highlighted_frames:\n",
    "        plt.scatter(reduced_features[idx, 0], reduced_features[idx, 1],\n",
    "                    color=cluster_colors[labels[idx]], marker='*', s=100)\n",
    "\n",
    "    #This is done to be added to the legend\n",
    "    plt.scatter([], [], color=cluster_colors[0], marker='*', s=100, label='Consolidation Frame in Cluster 0')\n",
    "    if len(cluster_colors) > 1:\n",
    "        plt.scatter([], [], color=cluster_colors[1], marker='*', s=100, label='Consolidation Frame in Cluster 1')\n",
    "\n",
    "    plt.legend()\n",
    "    plt.title('Clusters of Video Frames Based on ResNet-18 Features for 066_0_RPS')\n",
    "    plt.xlabel('Principal Component 1')\n",
    "    plt.ylabel('Principal Component 2')\n",
    "    plt.show()\n",
    "\n",
    "def save_frame_cluster_assignments_to_csv(frame_labels, output_csv_path):\n",
    "    df = pd.DataFrame({'Frame': np.arange(len(frame_labels)), 'Cluster': frame_labels})\n",
    "    df.to_csv(output_csv_path, index=False)\n",
    "    print(f'Frame cluster assignments saved to {output_csv_path}')\n",
    "\n",
    "device = torch.device('cuda' if torch.cuda.is_available() else 'cpu')\n",
    "resnet18 = models.resnet18(pretrained=True)\n",
    "resnet18 = nn.Sequential(*list(resnet18.children())[:-1])\n",
    "resnet18 = resnet18.to(device)\n",
    "resnet18.eval()\n",
    "\n",
    "video_path = '/content/drive/Shareddrives/mBSUS/Data/Raw Data/mbsus_case_videos/066-0_RPS.mp4'\n",
    "\n",
    "resnet_features = process_video_frame_by_frame(video_path, resnet18, device)\n",
    "\n",
    "frame_labels, _ = cluster_features(resnet_features)\n",
    "\n",
    "csv_path = '/content/066_0_RPSframe_cluster_assignments.csv'\n",
    "frame_cluster_df = pd.read_csv(csv_path)\n",
    "highlighted_frames = frame_cluster_df[(frame_cluster_df['Frame'].between(161,201)) ]['Frame'].values\n",
    "\n",
    "visualize_clusters(resnet_features, frame_labels, highlighted_frames)\n",
    "\n",
    "output_csv_path = 'frame_cluster_assignments_173_0_RAT.csv'\n",
    "save_frame_cluster_assignments_to_csv(frame_labels, output_csv_path)\n"
   ]
  }
 ],
 "metadata": {
  "colab": {
   "authorship_tag": "ABX9TyNI2bgg8VfzoIwMlV5I90em",
   "provenance": [
    {
     "file_id": "1FdwFxdprTkLersZ5RGBvbtuChH3cFr19",
     "timestamp": 1723202892945
    },
    {
     "file_id": "1xgkdSQy5bGm3quaJOrwy1MdJNe3g3aPZ",
     "timestamp": 1722037170703
    }
   ]
  },
  "kernelspec": {
   "display_name": "Python 3",
   "name": "python3"
  },
  "language_info": {
   "name": "python"
  }
 },
 "nbformat": 4,
 "nbformat_minor": 0
}
